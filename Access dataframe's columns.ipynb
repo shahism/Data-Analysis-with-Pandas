{
 "cells": [
  {
   "cell_type": "code",
   "execution_count": 16,
   "id": "48533521",
   "metadata": {},
   "outputs": [
    {
     "data": {
      "text/html": [
       "<div>\n",
       "<style scoped>\n",
       "    .dataframe tbody tr th:only-of-type {\n",
       "        vertical-align: middle;\n",
       "    }\n",
       "\n",
       "    .dataframe tbody tr th {\n",
       "        vertical-align: top;\n",
       "    }\n",
       "\n",
       "    .dataframe thead th {\n",
       "        text-align: right;\n",
       "    }\n",
       "</style>\n",
       "<table border=\"1\" class=\"dataframe\">\n",
       "  <thead>\n",
       "    <tr style=\"text-align: right;\">\n",
       "      <th></th>\n",
       "      <th>Population</th>\n",
       "      <th>Universities</th>\n",
       "      <th>Schools</th>\n",
       "    </tr>\n",
       "  </thead>\n",
       "  <tbody>\n",
       "    <tr>\n",
       "      <th>Karachi</th>\n",
       "      <td>1000</td>\n",
       "      <td>1188</td>\n",
       "      <td>5567</td>\n",
       "    </tr>\n",
       "    <tr>\n",
       "      <th>Lahore</th>\n",
       "      <td>1212</td>\n",
       "      <td>3454</td>\n",
       "      <td>6543</td>\n",
       "    </tr>\n",
       "    <tr>\n",
       "      <th>Islamabad</th>\n",
       "      <td>3432</td>\n",
       "      <td>9087</td>\n",
       "      <td>6789</td>\n",
       "    </tr>\n",
       "    <tr>\n",
       "      <th>Quetta</th>\n",
       "      <td>1234</td>\n",
       "      <td>4567</td>\n",
       "      <td>9876</td>\n",
       "    </tr>\n",
       "  </tbody>\n",
       "</table>\n",
       "</div>"
      ],
      "text/plain": [
       "           Population  Universities  Schools\n",
       "Karachi          1000          1188     5567\n",
       "Lahore           1212          3454     6543\n",
       "Islamabad        3432          9087     6789\n",
       "Quetta           1234          4567     9876"
      ]
     },
     "execution_count": 16,
     "metadata": {},
     "output_type": "execute_result"
    }
   ],
   "source": [
    "import pandas as pd\n",
    "list1 = [1000,1188,5567]\n",
    "list2 = [1212,3454,6543]\n",
    "list3 = [3432,9087,6789]\n",
    "list4 = [1234,4567,9876]\n",
    "\n",
    "\n",
    "ind = [\"Karachi\",\"Lahore\",\"Islamabad\",\"Quetta\"]\n",
    "col = [\"Population\",\"Universities\",\"Schools\"]\n",
    "df = pd.DataFrame([list1,list2,list3,list4],index=ind,columns=col)\n",
    "df\n",
    "\n"
   ]
  },
  {
   "cell_type": "code",
   "execution_count": 18,
   "id": "1b2012cf",
   "metadata": {},
   "outputs": [
    {
     "data": {
      "text/plain": [
       "Karachi      1000\n",
       "Lahore       1212\n",
       "Islamabad    3432\n",
       "Quetta       1234\n",
       "Name: Population, dtype: int64"
      ]
     },
     "execution_count": 18,
     "metadata": {},
     "output_type": "execute_result"
    }
   ],
   "source": [
    "df.Population"
   ]
  },
  {
   "cell_type": "code",
   "execution_count": 19,
   "id": "808bed44",
   "metadata": {},
   "outputs": [
    {
     "data": {
      "text/plain": [
       "Karachi      1188\n",
       "Lahore       3454\n",
       "Islamabad    9087\n",
       "Quetta       4567\n",
       "Name: Universities, dtype: int64"
      ]
     },
     "execution_count": 19,
     "metadata": {},
     "output_type": "execute_result"
    }
   ],
   "source": [
    "df.Universities"
   ]
  },
  {
   "cell_type": "code",
   "execution_count": 20,
   "id": "746fc9f4",
   "metadata": {},
   "outputs": [
    {
     "data": {
      "text/plain": [
       "Karachi      5567\n",
       "Lahore       6543\n",
       "Islamabad    6789\n",
       "Quetta       9876\n",
       "Name: Schools, dtype: int64"
      ]
     },
     "execution_count": 20,
     "metadata": {},
     "output_type": "execute_result"
    }
   ],
   "source": [
    "df.Schools #way 1 to access columns! "
   ]
  },
  {
   "cell_type": "code",
   "execution_count": 21,
   "id": "76b534a4",
   "metadata": {},
   "outputs": [
    {
     "data": {
      "text/plain": [
       "Karachi      5567\n",
       "Lahore       6543\n",
       "Islamabad    6789\n",
       "Quetta       9876\n",
       "Name: Schools, dtype: int64"
      ]
     },
     "execution_count": 21,
     "metadata": {},
     "output_type": "execute_result"
    }
   ],
   "source": [
    "df[\"Schools\"] #way 2 to access columns!"
   ]
  },
  {
   "cell_type": "code",
   "execution_count": 24,
   "id": "3886cec6",
   "metadata": {},
   "outputs": [
    {
     "data": {
      "text/html": [
       "<div>\n",
       "<style scoped>\n",
       "    .dataframe tbody tr th:only-of-type {\n",
       "        vertical-align: middle;\n",
       "    }\n",
       "\n",
       "    .dataframe tbody tr th {\n",
       "        vertical-align: top;\n",
       "    }\n",
       "\n",
       "    .dataframe thead th {\n",
       "        text-align: right;\n",
       "    }\n",
       "</style>\n",
       "<table border=\"1\" class=\"dataframe\">\n",
       "  <thead>\n",
       "    <tr style=\"text-align: right;\">\n",
       "      <th></th>\n",
       "      <th>Schools</th>\n",
       "      <th>Universities</th>\n",
       "    </tr>\n",
       "  </thead>\n",
       "  <tbody>\n",
       "    <tr>\n",
       "      <th>Karachi</th>\n",
       "      <td>5567</td>\n",
       "      <td>1188</td>\n",
       "    </tr>\n",
       "    <tr>\n",
       "      <th>Lahore</th>\n",
       "      <td>6543</td>\n",
       "      <td>3454</td>\n",
       "    </tr>\n",
       "    <tr>\n",
       "      <th>Islamabad</th>\n",
       "      <td>6789</td>\n",
       "      <td>9087</td>\n",
       "    </tr>\n",
       "    <tr>\n",
       "      <th>Quetta</th>\n",
       "      <td>9876</td>\n",
       "      <td>4567</td>\n",
       "    </tr>\n",
       "  </tbody>\n",
       "</table>\n",
       "</div>"
      ],
      "text/plain": [
       "           Schools  Universities\n",
       "Karachi       5567          1188\n",
       "Lahore        6543          3454\n",
       "Islamabad     6789          9087\n",
       "Quetta        9876          4567"
      ]
     },
     "execution_count": 24,
     "metadata": {},
     "output_type": "execute_result"
    }
   ],
   "source": [
    "df[[\"Schools\",\"Universities\"]] #ager aik se zyada columns ko access krna hai tou aik list deni hogi df[] k subscript main!"
   ]
  },
  {
   "cell_type": "code",
   "execution_count": null,
   "id": "ce44d0f4",
   "metadata": {},
   "outputs": [],
   "source": []
  }
 ],
 "metadata": {
  "kernelspec": {
   "display_name": "Python 3 (ipykernel)",
   "language": "python",
   "name": "python3"
  },
  "language_info": {
   "codemirror_mode": {
    "name": "ipython",
    "version": 3
   },
   "file_extension": ".py",
   "mimetype": "text/x-python",
   "name": "python",
   "nbconvert_exporter": "python",
   "pygments_lexer": "ipython3",
   "version": "3.9.7"
  }
 },
 "nbformat": 4,
 "nbformat_minor": 5
}
