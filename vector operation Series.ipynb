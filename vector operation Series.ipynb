{
 "cells": [
  {
   "cell_type": "code",
   "execution_count": 1,
   "id": "2b50b217",
   "metadata": {},
   "outputs": [
    {
     "data": {
      "text/plain": [
       "0    10\n",
       "1    15\n",
       "2    20\n",
       "3    25\n",
       "dtype: int64"
      ]
     },
     "execution_count": 1,
     "metadata": {},
     "output_type": "execute_result"
    }
   ],
   "source": [
    "import pandas as pd\n",
    "obj1 = pd.Series([10,15,20,25])\n",
    "obj1"
   ]
  },
  {
   "cell_type": "code",
   "execution_count": 2,
   "id": "9565369b",
   "metadata": {},
   "outputs": [
    {
     "data": {
      "text/plain": [
       "0    20\n",
       "1    30\n",
       "2    40\n",
       "3    50\n",
       "dtype: int64"
      ]
     },
     "execution_count": 2,
     "metadata": {},
     "output_type": "execute_result"
    }
   ],
   "source": [
    "# object k through puri list k elements ko hum arithmetic operation perform krskte hain \n",
    "obj1*2"
   ]
  },
  {
   "cell_type": "code",
   "execution_count": 3,
   "id": "fdc1ea98",
   "metadata": {},
   "outputs": [
    {
     "data": {
      "text/plain": [
       "0     9\n",
       "1    14\n",
       "2    19\n",
       "3    24\n",
       "dtype: int64"
      ]
     },
     "execution_count": 3,
     "metadata": {},
     "output_type": "execute_result"
    }
   ],
   "source": [
    "obj1-1"
   ]
  },
  {
   "cell_type": "code",
   "execution_count": 4,
   "id": "be32e85d",
   "metadata": {},
   "outputs": [
    {
     "data": {
      "text/plain": [
       "0    11\n",
       "1    16\n",
       "2    21\n",
       "3    26\n",
       "dtype: int64"
      ]
     },
     "execution_count": 4,
     "metadata": {},
     "output_type": "execute_result"
    }
   ],
   "source": [
    "obj1+1"
   ]
  },
  {
   "cell_type": "code",
   "execution_count": 5,
   "id": "3b6dc51f",
   "metadata": {},
   "outputs": [
    {
     "data": {
      "text/plain": [
       "0    2.0\n",
       "1    3.0\n",
       "2    4.0\n",
       "3    5.0\n",
       "dtype: float64"
      ]
     },
     "execution_count": 5,
     "metadata": {},
     "output_type": "execute_result"
    }
   ],
   "source": [
    "obj1/5"
   ]
  },
  {
   "cell_type": "code",
   "execution_count": 6,
   "id": "e926fdbb",
   "metadata": {},
   "outputs": [
    {
     "data": {
      "text/plain": [
       "0    1\n",
       "1    2\n",
       "2    3\n",
       "dtype: int64"
      ]
     },
     "execution_count": 6,
     "metadata": {},
     "output_type": "execute_result"
    }
   ],
   "source": [
    "#do series k uper operation perform krna ho tou wo indexes k hisab \n",
    "# se houta hai same index per elements k darmiyan operation perform houtay hain \n",
    "# ager index mojud na ho tou NaN (not a number) return houta hai\n",
    "obj2 = pd.Series([1,2,3])\n",
    "obj2\n"
   ]
  },
  {
   "cell_type": "code",
   "execution_count": 7,
   "id": "2ad74a1f",
   "metadata": {},
   "outputs": [
    {
     "data": {
      "text/plain": [
       "0    11.0\n",
       "1    17.0\n",
       "2    23.0\n",
       "3     NaN\n",
       "dtype: float64"
      ]
     },
     "execution_count": 7,
     "metadata": {},
     "output_type": "execute_result"
    }
   ],
   "source": [
    "obj1+obj2   #ab dono main 0 se 2 tk indexes thy tou corresponding values add hogyin jbke 3 position per aik main tha aik main \n",
    "# aur aik main na tha tou NaN"
   ]
  },
  {
   "cell_type": "code",
   "execution_count": null,
   "id": "2c7983f6",
   "metadata": {},
   "outputs": [],
   "source": []
  }
 ],
 "metadata": {
  "kernelspec": {
   "display_name": "Python 3 (ipykernel)",
   "language": "python",
   "name": "python3"
  },
  "language_info": {
   "codemirror_mode": {
    "name": "ipython",
    "version": 3
   },
   "file_extension": ".py",
   "mimetype": "text/x-python",
   "name": "python",
   "nbconvert_exporter": "python",
   "pygments_lexer": "ipython3",
   "version": "3.9.7"
  }
 },
 "nbformat": 4,
 "nbformat_minor": 5
}
