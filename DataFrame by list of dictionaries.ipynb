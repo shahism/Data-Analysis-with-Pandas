{
 "cells": [
  {
   "cell_type": "code",
   "execution_count": 1,
   "id": "3a265f72",
   "metadata": {
    "scrolled": true
   },
   "outputs": [
    {
     "data": {
      "text/html": [
       "<div>\n",
       "<style scoped>\n",
       "    .dataframe tbody tr th:only-of-type {\n",
       "        vertical-align: middle;\n",
       "    }\n",
       "\n",
       "    .dataframe tbody tr th {\n",
       "        vertical-align: top;\n",
       "    }\n",
       "\n",
       "    .dataframe thead th {\n",
       "        text-align: right;\n",
       "    }\n",
       "</style>\n",
       "<table border=\"1\" class=\"dataframe\">\n",
       "  <thead>\n",
       "    <tr style=\"text-align: right;\">\n",
       "      <th></th>\n",
       "      <th>name</th>\n",
       "      <th>semester</th>\n",
       "      <th>University</th>\n",
       "    </tr>\n",
       "  </thead>\n",
       "  <tbody>\n",
       "    <tr>\n",
       "      <th>0</th>\n",
       "      <td>Shahzaneer</td>\n",
       "      <td>03</td>\n",
       "      <td>CUI</td>\n",
       "    </tr>\n",
       "    <tr>\n",
       "      <th>1</th>\n",
       "      <td>Rameez</td>\n",
       "      <td>04</td>\n",
       "      <td>GCU</td>\n",
       "    </tr>\n",
       "    <tr>\n",
       "      <th>2</th>\n",
       "      <td>Musab</td>\n",
       "      <td>04</td>\n",
       "      <td>Riphah</td>\n",
       "    </tr>\n",
       "  </tbody>\n",
       "</table>\n",
       "</div>"
      ],
      "text/plain": [
       "         name semester University\n",
       "0  Shahzaneer       03        CUI\n",
       "1      Rameez       04        GCU\n",
       "2       Musab       04     Riphah"
      ]
     },
     "execution_count": 1,
     "metadata": {},
     "output_type": "execute_result"
    }
   ],
   "source": [
    "import pandas as pd\n",
    "dict1 = {'name':'Shahzaneer','semester':'03','University':'CUI'}\n",
    "dict2 = {'name':'Rameez','semester':'04','University':'GCU'}\n",
    "dict3 = {'name':'Musab','semester':'04','University':'Riphah'}\n",
    "\n",
    "df = pd.DataFrame([dict1,dict2,dict3])\n",
    "df\n",
    "# is trh list of dictionaries se bhi dataframe bn skta hai\n",
    "# keys jo same hain wo headings bn gyi hain aur values biltarteeb aagyin hain"
   ]
  },
  {
   "cell_type": "code",
   "execution_count": 2,
   "id": "8397022f",
   "metadata": {
    "scrolled": true
   },
   "outputs": [
    {
     "data": {
      "text/html": [
       "<div>\n",
       "<style scoped>\n",
       "    .dataframe tbody tr th:only-of-type {\n",
       "        vertical-align: middle;\n",
       "    }\n",
       "\n",
       "    .dataframe tbody tr th {\n",
       "        vertical-align: top;\n",
       "    }\n",
       "\n",
       "    .dataframe thead th {\n",
       "        text-align: right;\n",
       "    }\n",
       "</style>\n",
       "<table border=\"1\" class=\"dataframe\">\n",
       "  <thead>\n",
       "    <tr style=\"text-align: right;\">\n",
       "      <th></th>\n",
       "      <th>name</th>\n",
       "      <th>semester</th>\n",
       "      <th>University</th>\n",
       "      <th>College</th>\n",
       "    </tr>\n",
       "  </thead>\n",
       "  <tbody>\n",
       "    <tr>\n",
       "      <th>0</th>\n",
       "      <td>Shahzaneer</td>\n",
       "      <td>03</td>\n",
       "      <td>CUI</td>\n",
       "      <td>NaN</td>\n",
       "    </tr>\n",
       "    <tr>\n",
       "      <th>1</th>\n",
       "      <td>Rameez</td>\n",
       "      <td>04</td>\n",
       "      <td>GCU</td>\n",
       "      <td>NaN</td>\n",
       "    </tr>\n",
       "    <tr>\n",
       "      <th>2</th>\n",
       "      <td>Musab</td>\n",
       "      <td>04</td>\n",
       "      <td>Riphah</td>\n",
       "      <td>Unique</td>\n",
       "    </tr>\n",
       "  </tbody>\n",
       "</table>\n",
       "</div>"
      ],
      "text/plain": [
       "         name semester University College\n",
       "0  Shahzaneer       03        CUI     NaN\n",
       "1      Rameez       04        GCU     NaN\n",
       "2       Musab       04     Riphah  Unique"
      ]
     },
     "execution_count": 2,
     "metadata": {},
     "output_type": "execute_result"
    }
   ],
   "source": [
    "dict1 = {'name':'Shahzaneer','semester':'03','University':'CUI'}\n",
    "dict2 = {'name':'Rameez','semester':'04','University':'GCU'}\n",
    "dict3 = {'name':'Musab','semester':'04','University':'Riphah','College':'Unique'}\n",
    "df2 = pd.DataFrame([dict1,dict2,dict3])\n",
    "df2\n",
    "# ab College bhi key hone ki wajeh se aagya hai heading main but q k iske corresponding dict1 dict 2 main koi value nhi hai tou NaN aya hai\n"
   ]
  },
  {
   "cell_type": "code",
   "execution_count": 3,
   "id": "916acd30",
   "metadata": {},
   "outputs": [
    {
     "data": {
      "text/html": [
       "<div>\n",
       "<style scoped>\n",
       "    .dataframe tbody tr th:only-of-type {\n",
       "        vertical-align: middle;\n",
       "    }\n",
       "\n",
       "    .dataframe tbody tr th {\n",
       "        vertical-align: top;\n",
       "    }\n",
       "\n",
       "    .dataframe thead th {\n",
       "        text-align: right;\n",
       "    }\n",
       "</style>\n",
       "<table border=\"1\" class=\"dataframe\">\n",
       "  <thead>\n",
       "    <tr style=\"text-align: right;\">\n",
       "      <th></th>\n",
       "      <th>name</th>\n",
       "      <th>semester</th>\n",
       "      <th>University</th>\n",
       "      <th>College</th>\n",
       "    </tr>\n",
       "  </thead>\n",
       "  <tbody>\n",
       "    <tr>\n",
       "      <th>a</th>\n",
       "      <td>Shahzaneer</td>\n",
       "      <td>03</td>\n",
       "      <td>CUI</td>\n",
       "      <td>NaN</td>\n",
       "    </tr>\n",
       "    <tr>\n",
       "      <th>b</th>\n",
       "      <td>Rameez</td>\n",
       "      <td>04</td>\n",
       "      <td>GCU</td>\n",
       "      <td>NaN</td>\n",
       "    </tr>\n",
       "    <tr>\n",
       "      <th>c</th>\n",
       "      <td>Musab</td>\n",
       "      <td>04</td>\n",
       "      <td>Riphah</td>\n",
       "      <td>Unique</td>\n",
       "    </tr>\n",
       "  </tbody>\n",
       "</table>\n",
       "</div>"
      ],
      "text/plain": [
       "         name semester University College\n",
       "a  Shahzaneer       03        CUI     NaN\n",
       "b      Rameez       04        GCU     NaN\n",
       "c       Musab       04     Riphah  Unique"
      ]
     },
     "execution_count": 3,
     "metadata": {},
     "output_type": "execute_result"
    }
   ],
   "source": [
    "df3 = pd.DataFrame([dict1,dict2,dict3],index=['a','b','c'])\n",
    "df3\n",
    "# index ko list main pass kr k hum indexing change bhi krskte hain "
   ]
  },
  {
   "cell_type": "code",
   "execution_count": null,
   "id": "c441c90e",
   "metadata": {},
   "outputs": [],
   "source": []
  }
 ],
 "metadata": {
  "kernelspec": {
   "display_name": "Python 3 (ipykernel)",
   "language": "python",
   "name": "python3"
  },
  "language_info": {
   "codemirror_mode": {
    "name": "ipython",
    "version": 3
   },
   "file_extension": ".py",
   "mimetype": "text/x-python",
   "name": "python",
   "nbconvert_exporter": "python",
   "pygments_lexer": "ipython3",
   "version": "3.9.7"
  }
 },
 "nbformat": 4,
 "nbformat_minor": 5
}
