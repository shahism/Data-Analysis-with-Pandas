{
 "cells": [
  {
   "cell_type": "code",
   "execution_count": 1,
   "id": "996bbf98",
   "metadata": {},
   "outputs": [
    {
     "data": {
      "text/plain": [
       "0    10\n",
       "1    15\n",
       "2    20\n",
       "3    25\n",
       "dtype: int64"
      ]
     },
     "execution_count": 1,
     "metadata": {},
     "output_type": "execute_result"
    }
   ],
   "source": [
    "import pandas as pd\n",
    "obj1 = pd.Series([10,15,20,25])\n",
    "obj1"
   ]
  },
  {
   "cell_type": "code",
   "execution_count": 2,
   "id": "55697c22",
   "metadata": {},
   "outputs": [
    {
     "data": {
      "text/plain": [
       "15"
      ]
     },
     "execution_count": 2,
     "metadata": {},
     "output_type": "execute_result"
    }
   ],
   "source": [
    "# accessing individual element\n",
    "obj1[1]"
   ]
  },
  {
   "cell_type": "code",
   "execution_count": 3,
   "id": "03b650c5",
   "metadata": {},
   "outputs": [
    {
     "data": {
      "text/plain": [
       "0    10\n",
       "1    99\n",
       "2    20\n",
       "3    25\n",
       "dtype: int64"
      ]
     },
     "execution_count": 3,
     "metadata": {},
     "output_type": "execute_result"
    }
   ],
   "source": [
    "#modifying elements \n",
    "obj1[1] = 99\n",
    "obj1"
   ]
  },
  {
   "cell_type": "code",
   "execution_count": 4,
   "id": "252da221",
   "metadata": {},
   "outputs": [
    {
     "data": {
      "text/plain": [
       "0    10\n",
       "1    15\n",
       "2    15\n",
       "3    25\n",
       "dtype: int64"
      ]
     },
     "execution_count": 4,
     "metadata": {},
     "output_type": "execute_result"
    }
   ],
   "source": [
    "obj1[1:3] = 15\n",
    "obj1"
   ]
  },
  {
   "cell_type": "code",
   "execution_count": 5,
   "id": "8e4aec24",
   "metadata": {},
   "outputs": [
    {
     "data": {
      "text/plain": [
       "1    15\n",
       "2    15\n",
       "dtype: int64"
      ]
     },
     "execution_count": 5,
     "metadata": {},
     "output_type": "execute_result"
    }
   ],
   "source": [
    "#Slicing series\n",
    "obj1[1:3] #3 included na hoga"
   ]
  },
  {
   "cell_type": "code",
   "execution_count": 7,
   "id": "e363b7a2",
   "metadata": {},
   "outputs": [
    {
     "data": {
      "text/plain": [
       "a    10\n",
       "b    15\n",
       "c    15\n",
       "d    25\n",
       "dtype: int64"
      ]
     },
     "execution_count": 7,
     "metadata": {},
     "output_type": "execute_result"
    }
   ],
   "source": [
    "#renaming indexes \n",
    "obj1.index = ['a','b','c','d'] #jitne elements hon utne hi index list main dene hain werna error ayega\n",
    "obj1"
   ]
  },
  {
   "cell_type": "code",
   "execution_count": 8,
   "id": "7d320533",
   "metadata": {},
   "outputs": [
    {
     "data": {
      "text/plain": [
       "a    10\n",
       "b    15\n",
       "dtype: int64"
      ]
     },
     "execution_count": 8,
     "metadata": {},
     "output_type": "execute_result"
    }
   ],
   "source": [
    "#head and tail method \n",
    "#head --> uper se n elements fetch kr k dega aur tail neechay se n elements fetch kr k dega \n",
    "obj1.head(2)  #do elements shuru se fetch kr liay hain"
   ]
  },
  {
   "cell_type": "code",
   "execution_count": 9,
   "id": "48a963a6",
   "metadata": {},
   "outputs": [
    {
     "data": {
      "text/plain": [
       "c    15\n",
       "d    25\n",
       "dtype: int64"
      ]
     },
     "execution_count": 9,
     "metadata": {},
     "output_type": "execute_result"
    }
   ],
   "source": [
    "obj1.tail(2) #ab tail yani end se neechay se do elements fetch kr k dediay hain"
   ]
  },
  {
   "cell_type": "code",
   "execution_count": null,
   "id": "6fd0d2e7",
   "metadata": {},
   "outputs": [],
   "source": []
  }
 ],
 "metadata": {
  "kernelspec": {
   "display_name": "Python 3 (ipykernel)",
   "language": "python",
   "name": "python3"
  },
  "language_info": {
   "codemirror_mode": {
    "name": "ipython",
    "version": 3
   },
   "file_extension": ".py",
   "mimetype": "text/x-python",
   "name": "python",
   "nbconvert_exporter": "python",
   "pygments_lexer": "ipython3",
   "version": "3.9.7"
  }
 },
 "nbformat": 4,
 "nbformat_minor": 5
}
