{
 "cells": [
  {
   "cell_type": "code",
   "execution_count": 1,
   "id": "e21a7df2",
   "metadata": {},
   "outputs": [
    {
     "data": {
      "text/html": [
       "<div>\n",
       "<style scoped>\n",
       "    .dataframe tbody tr th:only-of-type {\n",
       "        vertical-align: middle;\n",
       "    }\n",
       "\n",
       "    .dataframe tbody tr th {\n",
       "        vertical-align: top;\n",
       "    }\n",
       "\n",
       "    .dataframe thead th {\n",
       "        text-align: right;\n",
       "    }\n",
       "</style>\n",
       "<table border=\"1\" class=\"dataframe\">\n",
       "  <thead>\n",
       "    <tr style=\"text-align: right;\">\n",
       "      <th></th>\n",
       "      <th>Population</th>\n",
       "      <th>Hospitals</th>\n",
       "      <th>Schools</th>\n",
       "    </tr>\n",
       "  </thead>\n",
       "  <tbody>\n",
       "    <tr>\n",
       "      <th>Lahore</th>\n",
       "      <td>10000</td>\n",
       "      <td>1500</td>\n",
       "      <td>7500</td>\n",
       "    </tr>\n",
       "    <tr>\n",
       "      <th>Karachi</th>\n",
       "      <td>12000</td>\n",
       "      <td>2000</td>\n",
       "      <td>7800</td>\n",
       "    </tr>\n",
       "    <tr>\n",
       "      <th>Islamabad</th>\n",
       "      <td>15000</td>\n",
       "      <td>1800</td>\n",
       "      <td>6600</td>\n",
       "    </tr>\n",
       "    <tr>\n",
       "      <th>Quetta</th>\n",
       "      <td>20000</td>\n",
       "      <td>1700</td>\n",
       "      <td>8000</td>\n",
       "    </tr>\n",
       "  </tbody>\n",
       "</table>\n",
       "</div>"
      ],
      "text/plain": [
       "           Population  Hospitals  Schools\n",
       "Lahore          10000       1500     7500\n",
       "Karachi         12000       2000     7800\n",
       "Islamabad       15000       1800     6600\n",
       "Quetta          20000       1700     8000"
      ]
     },
     "execution_count": 1,
     "metadata": {},
     "output_type": "execute_result"
    }
   ],
   "source": [
    "import numpy as np\n",
    "import pandas as pd\n",
    "populationValues = [10000,12000,15000,20000]\n",
    "schoolValues = [7500,7800,6600,8000]\n",
    "HospitalValues = [1500,2000,1800,1700]\n",
    "\n",
    "dict1 = {'Population':populationValues,'Hospitals':HospitalValues,\"Schools\":schoolValues}\n",
    "cities = ['Lahore','Karachi','Islamabad','Quetta']\n",
    "df5 = pd.DataFrame(dict1,index=cities)\n",
    "df5"
   ]
  },
  {
   "cell_type": "code",
   "execution_count": 2,
   "id": "d88f516b",
   "metadata": {},
   "outputs": [
    {
     "name": "stdout",
     "output_type": "stream",
     "text": [
      "The row  Lahore contains  Population    10000\n",
      "Hospitals      1500\n",
      "Schools        7500\n",
      "Name: Lahore, dtype: int64  Elements\n",
      "The row  Karachi contains  Population    12000\n",
      "Hospitals      2000\n",
      "Schools        7800\n",
      "Name: Karachi, dtype: int64  Elements\n",
      "The row  Islamabad contains  Population    15000\n",
      "Hospitals      1800\n",
      "Schools        6600\n",
      "Name: Islamabad, dtype: int64  Elements\n",
      "The row  Quetta contains  Population    20000\n",
      "Hospitals      1700\n",
      "Schools        8000\n",
      "Name: Quetta, dtype: int64  Elements\n"
     ]
    }
   ],
   "source": [
    "for (a,b) in df5.iterrows():\n",
    "    print('The row ',a,'contains ',b, ' Elements')"
   ]
  },
  {
   "cell_type": "code",
   "execution_count": 6,
   "id": "2c87289b",
   "metadata": {},
   "outputs": [
    {
     "name": "stdout",
     "output_type": "stream",
     "text": [
      "The column  Population contains\n",
      "Lahore       10000\n",
      "Karachi      12000\n",
      "Islamabad    15000\n",
      "Quetta       20000\n",
      "Name: Population, dtype: int64\n",
      "The column  Hospitals contains\n",
      "Lahore       1500\n",
      "Karachi      2000\n",
      "Islamabad    1800\n",
      "Quetta       1700\n",
      "Name: Hospitals, dtype: int64\n",
      "The column  Schools contains\n",
      "Lahore       7500\n",
      "Karachi      7800\n",
      "Islamabad    6600\n",
      "Quetta       8000\n",
      "Name: Schools, dtype: int64\n"
     ]
    }
   ],
   "source": [
    "for (a,b) in df5.iteritems():\n",
    "    print('The column ',a,'contains')\n",
    "    for (i) in b:\n",
    "        print(b)\n",
    "        break"
   ]
  },
  {
   "cell_type": "code",
   "execution_count": 7,
   "id": "d05eb4f6",
   "metadata": {},
   "outputs": [],
   "source": [
    "# iterrows for iterating over rows , itercolumns for iterating over columns"
   ]
  }
 ],
 "metadata": {
  "kernelspec": {
   "display_name": "Python 3 (ipykernel)",
   "language": "python",
   "name": "python3"
  },
  "language_info": {
   "codemirror_mode": {
    "name": "ipython",
    "version": 3
   },
   "file_extension": ".py",
   "mimetype": "text/x-python",
   "name": "python",
   "nbconvert_exporter": "python",
   "pygments_lexer": "ipython3",
   "version": "3.9.7"
  }
 },
 "nbformat": 4,
 "nbformat_minor": 5
}
