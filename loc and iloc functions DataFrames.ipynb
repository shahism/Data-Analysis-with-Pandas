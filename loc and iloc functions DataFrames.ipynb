{
 "cells": [
  {
   "cell_type": "code",
   "execution_count": 3,
   "id": "f24882c8",
   "metadata": {},
   "outputs": [
    {
     "data": {
      "text/html": [
       "<div>\n",
       "<style scoped>\n",
       "    .dataframe tbody tr th:only-of-type {\n",
       "        vertical-align: middle;\n",
       "    }\n",
       "\n",
       "    .dataframe tbody tr th {\n",
       "        vertical-align: top;\n",
       "    }\n",
       "\n",
       "    .dataframe thead th {\n",
       "        text-align: right;\n",
       "    }\n",
       "</style>\n",
       "<table border=\"1\" class=\"dataframe\">\n",
       "  <thead>\n",
       "    <tr style=\"text-align: right;\">\n",
       "      <th></th>\n",
       "      <th>Population</th>\n",
       "      <th>Hospitals</th>\n",
       "      <th>Schools</th>\n",
       "    </tr>\n",
       "  </thead>\n",
       "  <tbody>\n",
       "    <tr>\n",
       "      <th>Lahore</th>\n",
       "      <td>10000</td>\n",
       "      <td>1500</td>\n",
       "      <td>7500</td>\n",
       "    </tr>\n",
       "    <tr>\n",
       "      <th>Karachi</th>\n",
       "      <td>12000</td>\n",
       "      <td>2000</td>\n",
       "      <td>7800</td>\n",
       "    </tr>\n",
       "    <tr>\n",
       "      <th>Islamabad</th>\n",
       "      <td>15000</td>\n",
       "      <td>1800</td>\n",
       "      <td>6600</td>\n",
       "    </tr>\n",
       "    <tr>\n",
       "      <th>Quetta</th>\n",
       "      <td>20000</td>\n",
       "      <td>1700</td>\n",
       "      <td>8000</td>\n",
       "    </tr>\n",
       "  </tbody>\n",
       "</table>\n",
       "</div>"
      ],
      "text/plain": [
       "           Population  Hospitals  Schools\n",
       "Lahore          10000       1500     7500\n",
       "Karachi         12000       2000     7800\n",
       "Islamabad       15000       1800     6600\n",
       "Quetta          20000       1700     8000"
      ]
     },
     "execution_count": 3,
     "metadata": {},
     "output_type": "execute_result"
    }
   ],
   "source": [
    "import numpy as np\n",
    "import pandas as pd\n",
    "populationValues = [10000,12000,15000,20000]\n",
    "schoolValues = [7500,7800,6600,8000]\n",
    "HospitalValues = [1500,2000,1800,1700]\n",
    "\n",
    "dict1 = {'Population':populationValues,'Hospitals':HospitalValues,\"Schools\":schoolValues}\n",
    "cities = ['Lahore','Karachi','Islamabad','Quetta']\n",
    "df5 = pd.DataFrame(dict1,index=cities)\n",
    "df5"
   ]
  },
  {
   "cell_type": "code",
   "execution_count": 6,
   "id": "deb863fd",
   "metadata": {},
   "outputs": [
    {
     "data": {
      "text/html": [
       "<div>\n",
       "<style scoped>\n",
       "    .dataframe tbody tr th:only-of-type {\n",
       "        vertical-align: middle;\n",
       "    }\n",
       "\n",
       "    .dataframe tbody tr th {\n",
       "        vertical-align: top;\n",
       "    }\n",
       "\n",
       "    .dataframe thead th {\n",
       "        text-align: right;\n",
       "    }\n",
       "</style>\n",
       "<table border=\"1\" class=\"dataframe\">\n",
       "  <thead>\n",
       "    <tr style=\"text-align: right;\">\n",
       "      <th></th>\n",
       "      <th>Population</th>\n",
       "      <th>Schools</th>\n",
       "    </tr>\n",
       "  </thead>\n",
       "  <tbody>\n",
       "    <tr>\n",
       "      <th>Lahore</th>\n",
       "      <td>10000</td>\n",
       "      <td>7500</td>\n",
       "    </tr>\n",
       "    <tr>\n",
       "      <th>Karachi</th>\n",
       "      <td>12000</td>\n",
       "      <td>7800</td>\n",
       "    </tr>\n",
       "    <tr>\n",
       "      <th>Islamabad</th>\n",
       "      <td>15000</td>\n",
       "      <td>6600</td>\n",
       "    </tr>\n",
       "    <tr>\n",
       "      <th>Quetta</th>\n",
       "      <td>20000</td>\n",
       "      <td>8000</td>\n",
       "    </tr>\n",
       "  </tbody>\n",
       "</table>\n",
       "</div>"
      ],
      "text/plain": [
       "           Population  Schools\n",
       "Lahore          10000     7500\n",
       "Karachi         12000     7800\n",
       "Islamabad       15000     6600\n",
       "Quetta          20000     8000"
      ]
     },
     "execution_count": 6,
     "metadata": {},
     "output_type": "execute_result"
    }
   ],
   "source": [
    "df5[['Population','Schools']] # accessing multiple columns of a data frame"
   ]
  },
  {
   "cell_type": "code",
   "execution_count": 7,
   "id": "759f17ad",
   "metadata": {},
   "outputs": [
    {
     "data": {
      "text/html": [
       "<div>\n",
       "<style scoped>\n",
       "    .dataframe tbody tr th:only-of-type {\n",
       "        vertical-align: middle;\n",
       "    }\n",
       "\n",
       "    .dataframe tbody tr th {\n",
       "        vertical-align: top;\n",
       "    }\n",
       "\n",
       "    .dataframe thead th {\n",
       "        text-align: right;\n",
       "    }\n",
       "</style>\n",
       "<table border=\"1\" class=\"dataframe\">\n",
       "  <thead>\n",
       "    <tr style=\"text-align: right;\">\n",
       "      <th></th>\n",
       "      <th>Population</th>\n",
       "      <th>Hospitals</th>\n",
       "      <th>Schools</th>\n",
       "    </tr>\n",
       "  </thead>\n",
       "  <tbody>\n",
       "    <tr>\n",
       "      <th>Karachi</th>\n",
       "      <td>12000</td>\n",
       "      <td>2000</td>\n",
       "      <td>7800</td>\n",
       "    </tr>\n",
       "    <tr>\n",
       "      <th>Islamabad</th>\n",
       "      <td>15000</td>\n",
       "      <td>1800</td>\n",
       "      <td>6600</td>\n",
       "    </tr>\n",
       "    <tr>\n",
       "      <th>Quetta</th>\n",
       "      <td>20000</td>\n",
       "      <td>1700</td>\n",
       "      <td>8000</td>\n",
       "    </tr>\n",
       "  </tbody>\n",
       "</table>\n",
       "</div>"
      ],
      "text/plain": [
       "           Population  Hospitals  Schools\n",
       "Karachi         12000       2000     7800\n",
       "Islamabad       15000       1800     6600\n",
       "Quetta          20000       1700     8000"
      ]
     },
     "execution_count": 7,
     "metadata": {},
     "output_type": "execute_result"
    }
   ],
   "source": [
    "# accessing rows/columns \n",
    "df5.loc['Karachi':,:] #Karachi se shuru kr k last tk rows lo aur  columns bhi saaray lao."
   ]
  },
  {
   "cell_type": "code",
   "execution_count": 8,
   "id": "d20a6e2d",
   "metadata": {},
   "outputs": [
    {
     "data": {
      "text/plain": [
       "Population    15000\n",
       "Hospitals      1800\n",
       "Schools        6600\n",
       "Name: Islamabad, dtype: int64"
      ]
     },
     "execution_count": 8,
     "metadata": {},
     "output_type": "execute_result"
    }
   ],
   "source": [
    "df5.loc['Islamabad',:] #without colon den tou mehiz aik shehar(aik row k against columns) ki details aajayengi."
   ]
  },
  {
   "cell_type": "code",
   "execution_count": 9,
   "id": "11beca04",
   "metadata": {},
   "outputs": [
    {
     "data": {
      "text/html": [
       "<div>\n",
       "<style scoped>\n",
       "    .dataframe tbody tr th:only-of-type {\n",
       "        vertical-align: middle;\n",
       "    }\n",
       "\n",
       "    .dataframe tbody tr th {\n",
       "        vertical-align: top;\n",
       "    }\n",
       "\n",
       "    .dataframe thead th {\n",
       "        text-align: right;\n",
       "    }\n",
       "</style>\n",
       "<table border=\"1\" class=\"dataframe\">\n",
       "  <thead>\n",
       "    <tr style=\"text-align: right;\">\n",
       "      <th></th>\n",
       "      <th>Population</th>\n",
       "      <th>Hospitals</th>\n",
       "    </tr>\n",
       "  </thead>\n",
       "  <tbody>\n",
       "    <tr>\n",
       "      <th>Lahore</th>\n",
       "      <td>10000</td>\n",
       "      <td>1500</td>\n",
       "    </tr>\n",
       "    <tr>\n",
       "      <th>Karachi</th>\n",
       "      <td>12000</td>\n",
       "      <td>2000</td>\n",
       "    </tr>\n",
       "  </tbody>\n",
       "</table>\n",
       "</div>"
      ],
      "text/plain": [
       "         Population  Hospitals\n",
       "Lahore        10000       1500\n",
       "Karachi       12000       2000"
      ]
     },
     "execution_count": 9,
     "metadata": {},
     "output_type": "execute_result"
    }
   ],
   "source": [
    "df5.loc['Lahore':'Karachi','Population':'Hospitals']"
   ]
  },
  {
   "cell_type": "code",
   "execution_count": 10,
   "id": "28345667",
   "metadata": {},
   "outputs": [
    {
     "data": {
      "text/plain": [
       "Lahore     10000\n",
       "Karachi    12000\n",
       "Name: Population, dtype: int64"
      ]
     },
     "execution_count": 10,
     "metadata": {},
     "output_type": "execute_result"
    }
   ],
   "source": [
    "df5.loc['Lahore':'Karachi','Population'] # is trhh kisi bhi trh dataFrame k data ko accesss kia jaskta hai through loc function."
   ]
  },
  {
   "cell_type": "code",
   "execution_count": 11,
   "id": "69612133",
   "metadata": {},
   "outputs": [
    {
     "data": {
      "text/html": [
       "<div>\n",
       "<style scoped>\n",
       "    .dataframe tbody tr th:only-of-type {\n",
       "        vertical-align: middle;\n",
       "    }\n",
       "\n",
       "    .dataframe tbody tr th {\n",
       "        vertical-align: top;\n",
       "    }\n",
       "\n",
       "    .dataframe thead th {\n",
       "        text-align: right;\n",
       "    }\n",
       "</style>\n",
       "<table border=\"1\" class=\"dataframe\">\n",
       "  <thead>\n",
       "    <tr style=\"text-align: right;\">\n",
       "      <th></th>\n",
       "      <th>Population</th>\n",
       "      <th>Hospitals</th>\n",
       "    </tr>\n",
       "  </thead>\n",
       "  <tbody>\n",
       "    <tr>\n",
       "      <th>Lahore</th>\n",
       "      <td>10000</td>\n",
       "      <td>1500</td>\n",
       "    </tr>\n",
       "    <tr>\n",
       "      <th>Karachi</th>\n",
       "      <td>12000</td>\n",
       "      <td>2000</td>\n",
       "    </tr>\n",
       "  </tbody>\n",
       "</table>\n",
       "</div>"
      ],
      "text/plain": [
       "         Population  Hospitals\n",
       "Lahore        10000       1500\n",
       "Karachi       12000       2000"
      ]
     },
     "execution_count": 11,
     "metadata": {},
     "output_type": "execute_result"
    }
   ],
   "source": [
    "df5.iloc[0:2,0:2] #iloc function indexing k through access krne k case main use hoga yaad rahe k last index row aur column dono main hi excluded hoga yahan.\n"
   ]
  },
  {
   "cell_type": "code",
   "execution_count": 13,
   "id": "02c91454",
   "metadata": {},
   "outputs": [
    {
     "data": {
      "text/plain": [
       "6600"
      ]
     },
     "execution_count": 13,
     "metadata": {},
     "output_type": "execute_result"
    }
   ],
   "source": [
    "df5.iloc[2,2] #Islamabad k Schools access kiay hain isne!"
   ]
  },
  {
   "cell_type": "code",
   "execution_count": null,
   "id": "0b953288",
   "metadata": {},
   "outputs": [],
   "source": []
  }
 ],
 "metadata": {
  "kernelspec": {
   "display_name": "Python 3 (ipykernel)",
   "language": "python",
   "name": "python3"
  },
  "language_info": {
   "codemirror_mode": {
    "name": "ipython",
    "version": 3
   },
   "file_extension": ".py",
   "mimetype": "text/x-python",
   "name": "python",
   "nbconvert_exporter": "python",
   "pygments_lexer": "ipython3",
   "version": "3.9.7"
  }
 },
 "nbformat": 4,
 "nbformat_minor": 5
}
