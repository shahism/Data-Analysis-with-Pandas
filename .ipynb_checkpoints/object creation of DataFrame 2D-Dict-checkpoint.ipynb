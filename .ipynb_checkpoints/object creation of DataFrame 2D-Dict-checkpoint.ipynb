{
 "cells": [
  {
   "cell_type": "code",
   "execution_count": 1,
   "id": "79f50895",
   "metadata": {},
   "outputs": [
    {
     "data": {
      "text/plain": [
       "{'Student': ['Shahzaneer', 'Rameez', 'Daoud'],\n",
       " 'College': ['GCU', 'MAO', 'Cambridge'],\n",
       " 'Marks': [90, 85, 82]}"
      ]
     },
     "execution_count": 1,
     "metadata": {},
     "output_type": "execute_result"
    }
   ],
   "source": [
    "import pandas as pd\n",
    "# there are many ways to make dataframes; one is by 2D Dictionary\n",
    "dict1 = {'Student':['Shahzaneer','Rameez','Daoud'],\n",
    "         'College':['GCU','MAO','Cambridge'],\n",
    "         'Marks':[90,85,82]\n",
    "        }\n",
    "dict1 #a 2D dictionary (aik listing item k ander mazeed aik listing item)"
   ]
  },
  {
   "cell_type": "code",
   "execution_count": 2,
   "id": "364f4934",
   "metadata": {},
   "outputs": [
    {
     "data": {
      "text/html": [
       "<div>\n",
       "<style scoped>\n",
       "    .dataframe tbody tr th:only-of-type {\n",
       "        vertical-align: middle;\n",
       "    }\n",
       "\n",
       "    .dataframe tbody tr th {\n",
       "        vertical-align: top;\n",
       "    }\n",
       "\n",
       "    .dataframe thead th {\n",
       "        text-align: right;\n",
       "    }\n",
       "</style>\n",
       "<table border=\"1\" class=\"dataframe\">\n",
       "  <thead>\n",
       "    <tr style=\"text-align: right;\">\n",
       "      <th></th>\n",
       "      <th>Student</th>\n",
       "      <th>College</th>\n",
       "      <th>Marks</th>\n",
       "    </tr>\n",
       "  </thead>\n",
       "  <tbody>\n",
       "    <tr>\n",
       "      <th>0</th>\n",
       "      <td>Shahzaneer</td>\n",
       "      <td>GCU</td>\n",
       "      <td>90</td>\n",
       "    </tr>\n",
       "    <tr>\n",
       "      <th>1</th>\n",
       "      <td>Rameez</td>\n",
       "      <td>MAO</td>\n",
       "      <td>85</td>\n",
       "    </tr>\n",
       "    <tr>\n",
       "      <th>2</th>\n",
       "      <td>Daoud</td>\n",
       "      <td>Cambridge</td>\n",
       "      <td>82</td>\n",
       "    </tr>\n",
       "  </tbody>\n",
       "</table>\n",
       "</div>"
      ],
      "text/plain": [
       "      Student    College  Marks\n",
       "0  Shahzaneer        GCU     90\n",
       "1      Rameez        MAO     85\n",
       "2       Daoud  Cambridge     82"
      ]
     },
     "execution_count": 2,
     "metadata": {},
     "output_type": "execute_result"
    }
   ],
   "source": [
    "df = pd.DataFrame(dict1)\n",
    "df #jo keys hain wo headings bn jayengi aur values biltarteeb likhi hui ayengi aur values per by default indexing 0 se start \n",
    "#hoker hojayegi"
   ]
  },
  {
   "cell_type": "code",
   "execution_count": 3,
   "id": "3d72d4de",
   "metadata": {},
   "outputs": [
    {
     "data": {
      "text/html": [
       "<div>\n",
       "<style scoped>\n",
       "    .dataframe tbody tr th:only-of-type {\n",
       "        vertical-align: middle;\n",
       "    }\n",
       "\n",
       "    .dataframe tbody tr th {\n",
       "        vertical-align: top;\n",
       "    }\n",
       "\n",
       "    .dataframe thead th {\n",
       "        text-align: right;\n",
       "    }\n",
       "</style>\n",
       "<table border=\"1\" class=\"dataframe\">\n",
       "  <thead>\n",
       "    <tr style=\"text-align: right;\">\n",
       "      <th></th>\n",
       "      <th>Shahzaneer</th>\n",
       "      <th>Rameez</th>\n",
       "    </tr>\n",
       "  </thead>\n",
       "  <tbody>\n",
       "    <tr>\n",
       "      <th>College</th>\n",
       "      <td>GCU</td>\n",
       "      <td>MAO</td>\n",
       "    </tr>\n",
       "    <tr>\n",
       "      <th>University</th>\n",
       "      <td>CUI</td>\n",
       "      <td>GCU</td>\n",
       "    </tr>\n",
       "    <tr>\n",
       "      <th>StudentClub</th>\n",
       "      <td>GDSC</td>\n",
       "      <td>IEEE</td>\n",
       "    </tr>\n",
       "  </tbody>\n",
       "</table>\n",
       "</div>"
      ],
      "text/plain": [
       "            Shahzaneer Rameez\n",
       "College            GCU    MAO\n",
       "University         CUI    GCU\n",
       "StudentClub       GDSC   IEEE"
      ]
     },
     "execution_count": 3,
     "metadata": {},
     "output_type": "execute_result"
    }
   ],
   "source": [
    "#dataframe from a 2D dictionary having values as a dictionary object\n",
    "dict2 = {'Shahzaneer':{'College':'GCU','University':'CUI','StudentClub':'GDSC'},\n",
    "         'Rameez':{'College':'MAO','University':'GCU','StudentClub':'IEEE'}\n",
    "        }\n",
    "\n",
    "df2 = pd.DataFrame(dict2)\n",
    "df2\n",
    "# parent keys column ki headings bn gyin aur jo child keys thin heading tou unho ne bnna hi tha wo bnni rows ki headings\n",
    "# note that k yeh same thin tou aik hi baar aayein "
   ]
  },
  {
   "cell_type": "code",
   "execution_count": 5,
   "id": "dad7fd5f",
   "metadata": {},
   "outputs": [
    {
     "data": {
      "text/html": [
       "<div>\n",
       "<style scoped>\n",
       "    .dataframe tbody tr th:only-of-type {\n",
       "        vertical-align: middle;\n",
       "    }\n",
       "\n",
       "    .dataframe tbody tr th {\n",
       "        vertical-align: top;\n",
       "    }\n",
       "\n",
       "    .dataframe thead th {\n",
       "        text-align: right;\n",
       "    }\n",
       "</style>\n",
       "<table border=\"1\" class=\"dataframe\">\n",
       "  <thead>\n",
       "    <tr style=\"text-align: right;\">\n",
       "      <th></th>\n",
       "      <th>Shahzaneer</th>\n",
       "      <th>Rameez</th>\n",
       "    </tr>\n",
       "  </thead>\n",
       "  <tbody>\n",
       "    <tr>\n",
       "      <th>College</th>\n",
       "      <td>GCU</td>\n",
       "      <td>MAO</td>\n",
       "    </tr>\n",
       "    <tr>\n",
       "      <th>University</th>\n",
       "      <td>CUI</td>\n",
       "      <td>GCU</td>\n",
       "    </tr>\n",
       "    <tr>\n",
       "      <th>StudentClub</th>\n",
       "      <td>GDSC</td>\n",
       "      <td>IEEE</td>\n",
       "    </tr>\n",
       "  </tbody>\n",
       "</table>\n",
       "</div>"
      ],
      "text/plain": [
       "            Shahzaneer Rameez\n",
       "College            GCU    MAO\n",
       "University         CUI    GCU\n",
       "StudentClub       GDSC   IEEE"
      ]
     },
     "execution_count": 5,
     "metadata": {},
     "output_type": "execute_result"
    }
   ],
   "source": [
    "# ab bilfarz yeh ultin hon \n",
    "dict2 = {'Shahzaneer':{'College':'GCU','University':'CUI','StudentClub':'GDSC'},\n",
    "         'Rameez':{'College':'MAO','StudentClub':'IEEE','University':'GCU'}\n",
    "        }\n",
    "df3 = pd.DataFrame(dict2)\n",
    "df3\n",
    "# koi farq na parega isse!"
   ]
  },
  {
   "cell_type": "code",
   "execution_count": 6,
   "id": "c682c690",
   "metadata": {},
   "outputs": [
    {
     "data": {
      "text/html": [
       "<div>\n",
       "<style scoped>\n",
       "    .dataframe tbody tr th:only-of-type {\n",
       "        vertical-align: middle;\n",
       "    }\n",
       "\n",
       "    .dataframe tbody tr th {\n",
       "        vertical-align: top;\n",
       "    }\n",
       "\n",
       "    .dataframe thead th {\n",
       "        text-align: right;\n",
       "    }\n",
       "</style>\n",
       "<table border=\"1\" class=\"dataframe\">\n",
       "  <thead>\n",
       "    <tr style=\"text-align: right;\">\n",
       "      <th></th>\n",
       "      <th>Shahzaneer</th>\n",
       "      <th>Rameez</th>\n",
       "    </tr>\n",
       "  </thead>\n",
       "  <tbody>\n",
       "    <tr>\n",
       "      <th>College</th>\n",
       "      <td>GCU</td>\n",
       "      <td>MAO</td>\n",
       "    </tr>\n",
       "    <tr>\n",
       "      <th>University</th>\n",
       "      <td>CUI</td>\n",
       "      <td>GCU</td>\n",
       "    </tr>\n",
       "    <tr>\n",
       "      <th>StudentClub</th>\n",
       "      <td>GDSC</td>\n",
       "      <td>NaN</td>\n",
       "    </tr>\n",
       "  </tbody>\n",
       "</table>\n",
       "</div>"
      ],
      "text/plain": [
       "            Shahzaneer Rameez\n",
       "College            GCU    MAO\n",
       "University         CUI    GCU\n",
       "StudentClub       GDSC    NaN"
      ]
     },
     "execution_count": 6,
     "metadata": {},
     "output_type": "execute_result"
    }
   ],
   "source": [
    "# ager koi missing ho\n",
    "dict2 = {'Shahzaneer':{'College':'GCU','University':'CUI','StudentClub':'GDSC'},\n",
    "         'Rameez':{'College':'MAO','University':'GCU'}\n",
    "        }\n",
    "df4 = pd.DataFrame(dict2)\n",
    "df4\n",
    "# jo cheez missing hogi uske saath NaN (not A Number) likha hua hoga!"
   ]
  },
  {
   "cell_type": "code",
   "execution_count": 13,
   "id": "c5873ac8",
   "metadata": {},
   "outputs": [
    {
     "data": {
      "text/html": [
       "<div>\n",
       "<style scoped>\n",
       "    .dataframe tbody tr th:only-of-type {\n",
       "        vertical-align: middle;\n",
       "    }\n",
       "\n",
       "    .dataframe tbody tr th {\n",
       "        vertical-align: top;\n",
       "    }\n",
       "\n",
       "    .dataframe thead th {\n",
       "        text-align: right;\n",
       "    }\n",
       "</style>\n",
       "<table border=\"1\" class=\"dataframe\">\n",
       "  <thead>\n",
       "    <tr style=\"text-align: right;\">\n",
       "      <th></th>\n",
       "      <th>Shahzaneer</th>\n",
       "      <th>Rameez</th>\n",
       "    </tr>\n",
       "  </thead>\n",
       "  <tbody>\n",
       "    <tr>\n",
       "      <th>College</th>\n",
       "      <td>GCU</td>\n",
       "      <td>MAO</td>\n",
       "    </tr>\n",
       "    <tr>\n",
       "      <th>University</th>\n",
       "      <td>CUI</td>\n",
       "      <td>GCU</td>\n",
       "    </tr>\n",
       "    <tr>\n",
       "      <th>StudentClub</th>\n",
       "      <td>GDSC</td>\n",
       "      <td>NaN</td>\n",
       "    </tr>\n",
       "    <tr>\n",
       "      <th>Company</th>\n",
       "      <td>NaN</td>\n",
       "      <td>Systems Limited</td>\n",
       "    </tr>\n",
       "  </tbody>\n",
       "</table>\n",
       "</div>"
      ],
      "text/plain": [
       "            Shahzaneer           Rameez\n",
       "College            GCU              MAO\n",
       "University         CUI              GCU\n",
       "StudentClub       GDSC              NaN\n",
       "Company            NaN  Systems Limited"
      ]
     },
     "execution_count": 13,
     "metadata": {},
     "output_type": "execute_result"
    }
   ],
   "source": [
    "dict2 = {'Shahzaneer':{'College':'GCU','University':'CUI','StudentClub':'GDSC'},\n",
    "         'Rameez':{'College':'MAO','University':'GCU','Company':'Systems Limited'}\n",
    "        }\n",
    "df5 = pd.DataFrame(dict2)\n",
    "df5\n",
    "# ab keys rows ki headings tou banengi aur jiske adjacent koi value na hogi tou NaN ayega"
   ]
  },
  {
   "cell_type": "code",
   "execution_count": null,
   "id": "27163b87",
   "metadata": {},
   "outputs": [],
   "source": []
  },
  {
   "cell_type": "code",
   "execution_count": null,
   "id": "c0f34ea7",
   "metadata": {},
   "outputs": [],
   "source": []
  }
 ],
 "metadata": {
  "kernelspec": {
   "display_name": "Python 3 (ipykernel)",
   "language": "python",
   "name": "python3"
  },
  "language_info": {
   "codemirror_mode": {
    "name": "ipython",
    "version": 3
   },
   "file_extension": ".py",
   "mimetype": "text/x-python",
   "name": "python",
   "nbconvert_exporter": "python",
   "pygments_lexer": "ipython3",
   "version": "3.9.7"
  }
 },
 "nbformat": 4,
 "nbformat_minor": 5
}
